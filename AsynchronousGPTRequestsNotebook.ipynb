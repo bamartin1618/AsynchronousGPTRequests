{
  "nbformat": 4,
  "nbformat_minor": 0,
  "metadata": {
    "colab": {
      "provenance": []
    },
    "kernelspec": {
      "name": "python3",
      "display_name": "Python 3"
    },
    "language_info": {
      "name": "python"
    }
  },
  "cells": [
    {
      "cell_type": "code",
      "execution_count": 51,
      "metadata": {
        "colab": {
          "base_uri": "https://localhost:8080/"
        },
        "id": "05QrHzmKebF_",
        "outputId": "0050a16e-819c-4ccd-f802-c357b9c06980"
      },
      "outputs": [
        {
          "output_type": "stream",
          "name": "stdout",
          "text": [
            "Looking in indexes: https://pypi.org/simple, https://us-python.pkg.dev/colab-wheels/public/simple/\n",
            "Requirement already satisfied: openai in /usr/local/lib/python3.7/dist-packages (0.23.1)\n",
            "Requirement already satisfied: typing-extensions in /usr/local/lib/python3.7/dist-packages (from openai) (4.1.1)\n",
            "Requirement already satisfied: requests>=2.20 in /usr/local/lib/python3.7/dist-packages (from openai) (2.23.0)\n",
            "Requirement already satisfied: pandas>=1.2.3 in /usr/local/lib/python3.7/dist-packages (from openai) (1.3.5)\n",
            "Requirement already satisfied: pandas-stubs>=1.1.0.11 in /usr/local/lib/python3.7/dist-packages (from openai) (1.2.0.62)\n",
            "Requirement already satisfied: openpyxl>=3.0.7 in /usr/local/lib/python3.7/dist-packages (from openai) (3.0.10)\n",
            "Requirement already satisfied: tqdm in /usr/local/lib/python3.7/dist-packages (from openai) (4.64.1)\n",
            "Requirement already satisfied: numpy in /usr/local/lib/python3.7/dist-packages (from openai) (1.21.6)\n",
            "Requirement already satisfied: et-xmlfile in /usr/local/lib/python3.7/dist-packages (from openpyxl>=3.0.7->openai) (1.1.0)\n",
            "Requirement already satisfied: pytz>=2017.3 in /usr/local/lib/python3.7/dist-packages (from pandas>=1.2.3->openai) (2022.2.1)\n",
            "Requirement already satisfied: python-dateutil>=2.7.3 in /usr/local/lib/python3.7/dist-packages (from pandas>=1.2.3->openai) (2.8.2)\n",
            "Requirement already satisfied: six>=1.5 in /usr/local/lib/python3.7/dist-packages (from python-dateutil>=2.7.3->pandas>=1.2.3->openai) (1.15.0)\n",
            "Requirement already satisfied: certifi>=2017.4.17 in /usr/local/lib/python3.7/dist-packages (from requests>=2.20->openai) (2022.6.15)\n",
            "Requirement already satisfied: urllib3!=1.25.0,!=1.25.1,<1.26,>=1.21.1 in /usr/local/lib/python3.7/dist-packages (from requests>=2.20->openai) (1.24.3)\n",
            "Requirement already satisfied: idna<3,>=2.5 in /usr/local/lib/python3.7/dist-packages (from requests>=2.20->openai) (2.10)\n",
            "Requirement already satisfied: chardet<4,>=3.0.2 in /usr/local/lib/python3.7/dist-packages (from requests>=2.20->openai) (3.0.4)\n",
            "Looking in indexes: https://pypi.org/simple, https://us-python.pkg.dev/colab-wheels/public/simple/\n",
            "Requirement already satisfied: asyncio in /usr/local/lib/python3.7/dist-packages (3.4.3)\n"
          ]
        }
      ],
      "source": [
        "!pip3 install openai\n",
        "!pip3 install asyncio"
      ]
    },
    {
      "cell_type": "code",
      "source": [
        "import pandas\n",
        "\n",
        "questions = pandas.read_csv('https://raw.githubusercontent.com/bamartin1618/1WeekDataset/main/Question_Classification_Dataset.csv')\n",
        "question_sample = questions[questions.columns[1]].sample(50).to_numpy()"
      ],
      "metadata": {
        "id": "CxAEKYD2fEk4"
      },
      "execution_count": 52,
      "outputs": []
    },
    {
      "cell_type": "markdown",
      "source": [
        "# Approach 1: Single Requests\n",
        "<p>The following code answers fifty questions using the GPT-3 API, sending one request at a time.</p>\n",
        "<p>Straightforward but slow.</p>"
      ],
      "metadata": {
        "id": "wlh0KxOG0dlw"
      }
    },
    {
      "cell_type": "code",
      "source": [
        "import os\n",
        "import openai\n",
        "import time\n",
        "import aiohttp\n",
        "import asyncio\n",
        "\n",
        "openai.api_key = str(os.getenv('GPT_KEY'))\n",
        "\n",
        "t0 = time.time()\n",
        "\n",
        "answers = []\n",
        "\n",
        "for question in question_sample:\n",
        "\n",
        "  response = openai.Completion.create(\n",
        "      model='text-ada-001',\n",
        "      prompt=question,\n",
        "      temperature=0.7,\n",
        "      max_tokens=100,\n",
        "      top_p=1\n",
        "  )\n",
        "\n",
        "  answers.append(response['choices'][0]['text'])\n",
        "\n",
        "t1 = time.time()\n",
        "print(t1-t0)\n",
        "print(answers)\n",
        "print(len(answers))"
      ],
      "metadata": {
        "colab": {
          "base_uri": "https://localhost:8080/"
        },
        "id": "oJE0eGShiIfs",
        "outputId": "0fa147cf-8644-4fbc-d971-8694b330691e"
      },
      "execution_count": 53,
      "outputs": [
        {
          "output_type": "stream",
          "name": "stdout",
          "text": [
            "13.091099262237549\n",
            "['\\n\\nThe year is 2020.', '\\n\\nJohn C. Calhoun and Henry Clay were two of the most important and influential Members of the House of Representatives of the United States Congress.', '\\n\\nThere are only 10 students at the University of Massachusetts.', '\\n\\nThe most common surname in America is \"Jones\".', '\\n\\nROI: Returns on Investment for CCD technology', '\\n\\nA fear of motion is a fear of being able to move. This fear can come from a fear of being in a moving car, of being able to see in a dark place, or of moving too much.', '\\n\\nThe legal process typically includes a case conference, which is a meeting with a lawyer to discuss the best way to go about fighting a case.', '\\n\\nThere are a few steps you need to take in order to start writing for television. First, you need to develop a writing style and find a topic that interests you. Next, you need to find people who are interested in writing about your topic and try to produce a letter of proposal before the latter begins to receive feedback. Finally, you need to make sure your work is quality and that it is written correctly so that you can produce a produce a quality piece of writing.', '\\n\\nThere are many tabs for Third Eye Blind songs available online, but some tabs may be Weekday tab for you while others may be Top track tab.', '\\n\\nCu and Tin form a new alloy called Ta in physical standpoint.', \"\\n\\nRoy Rogers was a dog from Roy Rogers and the O'Malley's family.\", '\\n\\nJohn Lee Hooker', '\\n\\nPoe was born in 175.', '\\n\\nThere is no one definitive answer to this question. Some jockey who has won 17 Triple Crown races is might be considered a \"winner.\" Others may be considered a \"non-winner.\" Ultimately, the award given to the person who wins a Triple Crown is the Prize Lord\\'s and so it is up to the individual to choose what they will do with it.', \"\\n\\nThe character who Narrates Treasure Island is a character who is known only as the Narrator. She is responsible for Alligand's story and for providing Alligand with the treasure.\", '\\n\\nThe river Thames is on the left as you leave London.', \"\\n\\nThe strip was turned into a Broadway musical in the early 1900's.\", '\\n\\nThe Japanese manufacturer of pianos is Yamaha. The Japanese manufacturer of motorcycles is Intersport.', '\\n\\nThe family circus is a dog that is circus-trained and does the basicCircusact.', '\\n\\nMozambique is in southern Africa.', '\\n\\nThe most money can be made selling sports clothing and equipment. It can be expected that athletes will make the most money selling sports clothing and equipment.', '\\n\\nThe biggest eyes are the eyes of a lion.', '\\n\\nSome good medical sites for information include: the American Academy of Family Physicians, the American Nurses Association, and the American Psychiatric Society.', '\\n\\nThe film \" google \" features Popeye Doyle.', '\\n\\nThe green of a rooftops is determined by how many Doctrine terms it has. A rooftop has three Doctrine terms: red, yellow, and green.', \"\\n\\nThe Bourbon king who was restored to the French throne during Napoleon 's abdication was Prince Louis of Battenberg.\", '\\n\\nThe minimum wage was $0. There was no change in it between 1991 and 1993. The minimum wage in 1995 was $10.00.', '\\n\\nThe presidential election is held in November in order to emit and to havea hereditarian child.', '\\n\\nThe Cushman and Wakefield families are known for their legal cases that argue against sharecropping laws.', '\\n\\nPineapple drink is made up of rum, coconut milk and pineapple.', \"\\n\\nThere is no one-size-fits-all answer to this question, as the treatment for depression depends on the individual's individual circumstances and the specific condition they are experiencing. However, there are some general trends that can be applied to describe the treatment for depression. These trends are that depression can be managed effectively with medication, support from family and friends, and ongoing de-Nazification and engagement in critical thinking and personal growth.\", '\\n\\nThe Everest mountain is located in Nepal.', '\\n\\nThe United States has the most roses.', '\\n\\nThe layer of the atmosphere that contains the most of the ozone layer is the layer in the lower part of the atmosphere that is called the \"layer of the atmosphere.\"', '\\n\\nThe Pheonix Club is a networking club that connects startups with corporate partners. It is located at the University of Utah in aggregate and offers members opportunities to meet and network with other startups.', '\\n\\nThe American general who replied was George Washington.', '\\n\\nThe letter appears to be from a woman who has recently moved to Spain.', '\\n\\nIn 1969, John E. macaulay, who had been appointed by Nixon to be his secretary of State, went to jail for price Climbing The corporate ladder\\n\\nIn 1927, 7 times US president and Union president Richard Nixon had been born.\\n\\nIn 1969, John E. Macaulay, who had been appointed by Nixon to be his secretary of State, went to jail for price Climbing The corporate ladder', '\\n\\nJean Nicolet was a French engineer and scientist who worked on the creation of the first electric motor.', '\\n\\nCoca-Cola is a sweet and carbonated water drink. It was first produced in the early 1800s.', '\\n\\nThere are manyMJS articles and books about Margaret Thatcher. One popular article is \"The Life and Death of Thatcherism\" by Justin O\\'ullahof', '\\n\\nThe city of Munich, Germany is called \"Bavaria\"', '\\n\\nThe economics profession is full of experts in the field of economics. economics is a very comprehensive and versatile word, meaning theory, analysis, and practice of economics.', '\\n\\nThe acronym for the National Bureau of Investigation is NBI.', '\\n\\nThe current ticket fare from Cairo to Barbados is $ where $ is the cost of a ticket for the plane ride from Cairo to Barbados. is the cost of a ticket for the plane ride from Cairo to Barbados.', '\\n\\nGoldilocks ate a toy.', '\\n\\nThere are many good science sites on the Internet. Some that may be of particular interest to students include the Earth at Morning, the Moon, the Sun, and the stars.', '\\n\\nThe word \"dew\" is from the word \"εἰς\" (ḵinqm). The word \"εἰς\" is the active form of the word \"εἰ\" (ḵinq). The word \"μέρε\" ( Mordae ) is the active form of the word \"μέρ\" (mord).', '\\n\\nThe most extensively grown and eaten food is corn.', '\\n\\nThe religion with the most members is Islam.']\n",
            "50\n"
          ]
        }
      ]
    },
    {
      "cell_type": "markdown",
      "source": [
        "# Approach 2: Concurrent Requests\n",
        "<p>It's really easy to make concurrent requests with the GPT-3 API, and there's a huge boost in speed.</p>\n",
        "<p>You can do it by taking the endpoint that the GPT Playground sends requests to through the Network Tab in Developer Tools. The rest is simple.</p>"
      ],
      "metadata": {
        "id": "FfSfL5qvzuH8"
      }
    },
    {
      "cell_type": "code",
      "source": [
        "!pip3 install nest_asyncio"
      ],
      "metadata": {
        "colab": {
          "base_uri": "https://localhost:8080/"
        },
        "id": "VbCYDg5cmQ6A",
        "outputId": "9e81eb4b-8064-44d9-835c-20a798db2bf3"
      },
      "execution_count": 54,
      "outputs": [
        {
          "output_type": "stream",
          "name": "stdout",
          "text": [
            "Looking in indexes: https://pypi.org/simple, https://us-python.pkg.dev/colab-wheels/public/simple/\n",
            "Requirement already satisfied: nest_asyncio in /usr/local/lib/python3.7/dist-packages (1.5.6)\n"
          ]
        }
      ]
    },
    {
      "cell_type": "code",
      "source": [
        "from pickle import TUPLE2\n",
        "import nest_asyncio\n",
        "nest_asyncio.apply()\n",
        "\n",
        "async def get_text(session, url, params):\n",
        "\n",
        "    async with session.post(url, json = params) as resp:\n",
        "        text = await resp.json()\n",
        "        return text['choices'][0]['text']\n",
        "\n",
        "async def answer_questions():\n",
        "\n",
        "  async with aiohttp.ClientSession(headers = {'authorization' : f\"Bearer {os.getenv('GPT_TOKEN')}\"}) as session:\n",
        "\n",
        "    jobs = []\n",
        "    \n",
        "    for question in question_sample:\n",
        "      url = 'https://api.openai.com/v1/engines/text-ada-001/completions'\n",
        "      jobs.append(asyncio.ensure_future(get_text(session, url, {'prompt' : 'question', 'temperature' : 0.7, 'max_tokens' : 100, 'top_p' : 1})))\n",
        "\n",
        "    responses = await asyncio.gather(*jobs)\n",
        "\n",
        "  return responses\n",
        "\n",
        "t2 = time.time()\n",
        "answers = asyncio.run(answer_questions())\n",
        "t3 = time.time()\n",
        "\n",
        "print(t1-t0)\n",
        "print(len(answers))"
      ],
      "metadata": {
        "colab": {
          "base_uri": "https://localhost:8080/"
        },
        "id": "HuNPkKhGkwk6",
        "outputId": "99546adf-32a9-4bc7-c52a-f09c570e70e2"
      },
      "execution_count": 55,
      "outputs": [
        {
          "output_type": "stream",
          "name": "stdout",
          "text": [
            "13.091099262237549\n",
            "50\n"
          ]
        }
      ]
    },
    {
      "cell_type": "code",
      "source": [
        "print(f'Single Requests (Time to Complete): {t1-t0} seconds')\n",
        "print(f'Concurrent Requests (Time to Complete): {t3-t2} seconds')"
      ],
      "metadata": {
        "colab": {
          "base_uri": "https://localhost:8080/"
        },
        "id": "qmPnms9t037r",
        "outputId": "dd3e7f0d-da02-4eed-f2f6-4e221cc8a189"
      },
      "execution_count": 56,
      "outputs": [
        {
          "output_type": "stream",
          "name": "stdout",
          "text": [
            "Single Requests (Time to Complete): 13.091099262237549 seconds\n",
            "Concurrent Requests (Time to Complete): 0.8138439655303955 seconds\n"
          ]
        }
      ]
    }
  ]
}