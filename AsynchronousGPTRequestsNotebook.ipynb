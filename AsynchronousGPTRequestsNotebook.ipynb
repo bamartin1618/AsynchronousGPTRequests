{
  "nbformat": 4,
  "nbformat_minor": 0,
  "metadata": {
    "colab": {
      "provenance": []
    },
    "kernelspec": {
      "name": "python3",
      "display_name": "Python 3"
    },
    "language_info": {
      "name": "python"
    }
  },
  "cells": [
    {
      "cell_type": "code",
      "execution_count": 39,
      "metadata": {
        "colab": {
          "base_uri": "https://localhost:8080/"
        },
        "id": "05QrHzmKebF_",
        "outputId": "c528c6e0-1084-4c19-c6ee-e26d0ea76493"
      },
      "outputs": [
        {
          "output_type": "stream",
          "name": "stdout",
          "text": [
            "Looking in indexes: https://pypi.org/simple, https://us-python.pkg.dev/colab-wheels/public/simple/\n",
            "Requirement already satisfied: openai in /usr/local/lib/python3.7/dist-packages (0.23.1)\n",
            "Requirement already satisfied: requests>=2.20 in /usr/local/lib/python3.7/dist-packages (from openai) (2.23.0)\n",
            "Requirement already satisfied: tqdm in /usr/local/lib/python3.7/dist-packages (from openai) (4.64.1)\n",
            "Requirement already satisfied: pandas-stubs>=1.1.0.11 in /usr/local/lib/python3.7/dist-packages (from openai) (1.2.0.62)\n",
            "Requirement already satisfied: typing-extensions in /usr/local/lib/python3.7/dist-packages (from openai) (4.1.1)\n",
            "Requirement already satisfied: numpy in /usr/local/lib/python3.7/dist-packages (from openai) (1.21.6)\n",
            "Requirement already satisfied: openpyxl>=3.0.7 in /usr/local/lib/python3.7/dist-packages (from openai) (3.0.10)\n",
            "Requirement already satisfied: pandas>=1.2.3 in /usr/local/lib/python3.7/dist-packages (from openai) (1.3.5)\n",
            "Requirement already satisfied: et-xmlfile in /usr/local/lib/python3.7/dist-packages (from openpyxl>=3.0.7->openai) (1.1.0)\n",
            "Requirement already satisfied: python-dateutil>=2.7.3 in /usr/local/lib/python3.7/dist-packages (from pandas>=1.2.3->openai) (2.8.2)\n",
            "Requirement already satisfied: pytz>=2017.3 in /usr/local/lib/python3.7/dist-packages (from pandas>=1.2.3->openai) (2022.2.1)\n",
            "Requirement already satisfied: six>=1.5 in /usr/local/lib/python3.7/dist-packages (from python-dateutil>=2.7.3->pandas>=1.2.3->openai) (1.15.0)\n",
            "Requirement already satisfied: chardet<4,>=3.0.2 in /usr/local/lib/python3.7/dist-packages (from requests>=2.20->openai) (3.0.4)\n",
            "Requirement already satisfied: idna<3,>=2.5 in /usr/local/lib/python3.7/dist-packages (from requests>=2.20->openai) (2.10)\n",
            "Requirement already satisfied: certifi>=2017.4.17 in /usr/local/lib/python3.7/dist-packages (from requests>=2.20->openai) (2022.6.15)\n",
            "Requirement already satisfied: urllib3!=1.25.0,!=1.25.1,<1.26,>=1.21.1 in /usr/local/lib/python3.7/dist-packages (from requests>=2.20->openai) (1.24.3)\n",
            "Looking in indexes: https://pypi.org/simple, https://us-python.pkg.dev/colab-wheels/public/simple/\n",
            "Requirement already satisfied: asyncio in /usr/local/lib/python3.7/dist-packages (3.4.3)\n"
          ]
        }
      ],
      "source": [
        "!pip3 install openai\n",
        "!pip3 install asyncio"
      ]
    },
    {
      "cell_type": "code",
      "source": [
        "import pandas\n",
        "\n",
        "questions = pandas.read_csv('https://raw.githubusercontent.com/bamartin1618/1WeekDataset/main/Question_Classification_Dataset.csv')\n",
        "question_sample = questions[questions.columns[1]].sample(50).to_numpy()"
      ],
      "metadata": {
        "id": "CxAEKYD2fEk4"
      },
      "execution_count": 40,
      "outputs": []
    },
    {
      "cell_type": "markdown",
      "source": [
        "# Approach 1: Single Requests\n",
        "<p>The following code answers fifty questions using the GPT-3 API, sending one request at a time.</p>\n",
        "<p>Straightforward but slow.</p>"
      ],
      "metadata": {
        "id": "wlh0KxOG0dlw"
      }
    },
    {
      "cell_type": "code",
      "source": [
        "import os\n",
        "import openai\n",
        "import time\n",
        "import aiohttp\n",
        "import asyncio\n",
        "\n",
        "openai.api_key = str(os.getenv('GPT_KEY'))\n",
        "\n",
        "t0 = time.time()\n",
        "\n",
        "answers = []\n",
        "\n",
        "for question in question_sample:\n",
        "\n",
        "  response = openai.Completion.create(\n",
        "      model='text-ada-001',\n",
        "      prompt=question,\n",
        "      temperature=0.7,\n",
        "      max_tokens=100,\n",
        "      top_p=1\n",
        "  )\n",
        "\n",
        "  answers.append(response['choices'][0]['text'])\n",
        "\n",
        "t1 = time.time()\n",
        "print(t1-t0)\n",
        "print(answers)"
      ],
      "metadata": {
        "colab": {
          "base_uri": "https://localhost:8080/"
        },
        "id": "oJE0eGShiIfs",
        "outputId": "795c683b-b00c-4891-d3c8-9ddb374a55c9"
      },
      "execution_count": 41,
      "outputs": [
        {
          "output_type": "stream",
          "name": "stdout",
          "text": [
            "13.090801239013672\n",
            "['\\n\\nLinux is a term used to describe the design of a computer system from the weeks of development starting in 1998 through to the present. It refers to the \"Linux kernel\" and the \"linux-sys Thank you for choosing Linux!', '\\n\\nThe sense of smell becomes active first.', '\\n\\nThe tropical rain forest distributions are mainly located in the Americas, Africa, and Australia.', \"\\n\\nThe percentage of children between the ages of two and eleven who watch `The Simpsons' is about 77%.\", '\\n\\nOzzy Osbourne was born on December 5, 1965.', \"\\n\\nThere is no one answer to this question as there are many reasons why one might want to stop or slow down aging. Some reasons might be to prevent serious health problems, to enjoy younger-looking skin and hair, or to feel older-looking skin and hair without any doctor's advice. Other reasons might be to prevent some types of death, such as old age or natural death. If you want to stop or slow down aging, you might need to experiment and try different things to see\", '\\n\\nSchool buses are typically red, but can be other colors if the driver feels comfortable with the idea.', \"\\n\\nThe college that produced the most winning Super Bowl quarterbacks is often cited as Stanford. Stanford's most recent player to achieve success in the professional football world isvals with Mikeykpoor, and the No. 1 offense and defense in the country. The Cardinal have produced a great Super Bowl starter in all, withUSHNiquonnelle, who was born in 1957 and attended Catholic University,ason gregorianis, the only player from southern Africa to be drafted in the first round of\", '\\n\\nThe heat of the sun is measured in degrees Kelvin.', '\\n\\nSebastian Edberg is from Austria.', '\\n\\nThe word nevermind is a term used to describe a person who is willing to forgo any hope of results, in order to continue with the relationship or project.', \"\\n\\nA respiratory cover that is terms such as ``drinker'' or ``spiral'' and is used when it is desired that the user be out of contact with the air in order to conduct business in an hurrying environment.\", '\\n\\nThe largest single factor in keeping North American cars off the roads during World War II was the shortage of gasoline.', \"\\n\\nThe origins of Boxing Day are mysterious and date back to the 4th century. However, the date of Boxing Day are now date by which the UK's Gregorian calendar observations are made.\", '\\n\\nThe South aggro line of Everestrange is the kickoff point for climbs of Mount Everest.', '\\n\\nFawaz Younis took hostages on board the M/Vristorical in order to achieve his goals.', '\\n\\nThe expression \"on the offensive\" comes from baseball.', '\\n\\nThe Angel has been with several super-teams. They include a team of bounty hunters, a team of angels, and a team of demons.', '\\n\\nThere are over 20 million people living in cities in the US.', '\\n\\nThe island that is northeast of Trinidad is Antigua.', '\\n\\nThe snowiest city in the United States is during winter, typically January-March.', '\\n\\nMicrosoft was founded on April 1, 1978.', '\\n\\nBert Loomis invented the \"Loomis maneuver\" which is a way to get back in front of the ball after it has been shot.', '\\n\\nColin Powell was a U.S. president fromchy (C-1) from Reykjavik, Iceland, to C-2 in 2001. He was previously his deputy to the president of the United States, George W. Bush. He was a Mike Cerny in the Kennedy School of Government at Yale University from 1981 to 1985. He was a three-time candidate for office in the United States Congress (1987-1991, 1993-1995, 1997-2001).', '\\n\\n illustrate\\n\\nirted with married\\n\\nhad multiple wives\\n\\npoured his heart out to\\n\\nthe church', '\\n\\nThe city of Darwin is located in Australia.', '\\n\\nThe first humans believed that fish were found on earth, about 26,000 years ago.', '\\n\\nChromatography is the process of analyzing chemicals by theaction.', \"\\n\\nBella Abzug's trademark is a black dress with a white bow.\", '\\n\\nOne possible reason for this year remembered is that it is the year dogtown was founded by O. F. Scranton.', \"\\n\\nThe only speaking role in `` Silent Movie '' is that of the narrator.\", '\\n\\nThe wingspan of a condor is about 1.5 m.', '\\n\\nThe name of the continent is Europe.', \"\\n\\nThe Enterprise crew traveled to Zefram Cochrane's Earth in 2\\n3 years.\", '\\n\\nThe United States is the largest country in Latin America.', '\\n\\n1792', \"\\n\\nThe bicornate animals have two of each of the animals'\\n\\n\\n\\nThe bicornate animals have two of the animals' of each of the animals.\", '\\n\\nThe population of Mississippi is over 11 million.', '\\n\\nThe race is 137 miles long.', \"\\n\\nThe Caribbean cult Marcus Garvey originated is still debate. Some say that Garvey's message was brought down from the Caribbean by an attempt on the part of some of the members of the United States Reprisal Unit, which was research team of House of Reprisal, which was sent to the Caribbean to study the situation there. It is possible that Garvey's message came from a pamphlet, talk show, orator, or other media source that was published in the Caribbean.\", '\\n\\nScooby Doo is a dog who is protected by a scruffy dog hair coat. He is a friendly dog who loves to play tag and explore his world.', '\\n\\nThe pseudonym of Peter Sutcliffe was \"The Shrieker\".', '\\n\\nThe two sons of Ozzie and Harriet Nelson are son-in-lawy and son-exact.', '\\n\\nThe first radioceiver was invented by Dr. J.C. Whittle in 1887.', '\\n\\nJean Nicolet was a French artist who was very influential in the development of modern art. He was born in 1784 in the town of Joux in the instead of the more typical town of Grenoble. He at an early age was skilled in painting and started to submit paintings to contemporary art magazines. One of his earliest examples is the now famous self-portrait. He also created some very popular known as the \"Nicolet paintings.\".\\n\\nWhat did Jean Nico', '\\n\\nThere are three furlongs in a mile-and-a-quarter.', '\\n\\nThe space between Baltic Avenue and Reading Railroad on a Monopoly board is 1 up.', '\\n\\nChocolate company gives you a one-pound kiss.', '\\n\\n1994', '\\n\\nClouds are a fear for many people because they are often seen asfavors, something that would make it possible for us to not worry about. clouds can be a fear for a number of reasons, including: they can be a fear for a number of reasons, including:\\n\\n1. They are often seen asfavors, something that would make it possible for us to not worry about. clouds can be a fear for a number of reasons, including:\\n\\n']\n"
          ]
        }
      ]
    },
    {
      "cell_type": "markdown",
      "source": [
        "# Approach 2: Concurrent Requests\n",
        "<p>It's really easy to make concurrent requests with the GPT-3 API, and there's a huge boost in speed.</p>\n",
        "<p>You can do it by taking the endpoint that the GPT Playground sends requests to through the Network Tab in Developer Tools. The rest is simple.</p>"
      ],
      "metadata": {
        "id": "FfSfL5qvzuH8"
      }
    },
    {
      "cell_type": "code",
      "source": [
        "!pip3 install nest_asyncio"
      ],
      "metadata": {
        "colab": {
          "base_uri": "https://localhost:8080/"
        },
        "id": "VbCYDg5cmQ6A",
        "outputId": "6d7d6368-25c2-4b5c-8a54-8ff96693c837"
      },
      "execution_count": 42,
      "outputs": [
        {
          "output_type": "stream",
          "name": "stdout",
          "text": [
            "Looking in indexes: https://pypi.org/simple, https://us-python.pkg.dev/colab-wheels/public/simple/\n",
            "Requirement already satisfied: nest_asyncio in /usr/local/lib/python3.7/dist-packages (1.5.6)\n"
          ]
        }
      ]
    },
    {
      "cell_type": "code",
      "source": [
        "from pickle import TUPLE2\n",
        "import nest_asyncio\n",
        "nest_asyncio.apply()\n",
        "\n",
        "async def get_text(session, url, params):\n",
        "\n",
        "    async with session.post(url, json = params) as resp:\n",
        "        text = await resp.json()\n",
        "        return text['choices'][0]['text']\n",
        "\n",
        "async def answer_questions():\n",
        "\n",
        "  async with aiohttp.ClientSession(headers = {'authorization' : f\"Bearer {os.getenv('GPT_TOKEN')}\"}) as session:\n",
        "\n",
        "    jobs = []\n",
        "    \n",
        "    for question in questions:\n",
        "      url = 'https://api.openai.com/v1/engines/text-ada-001/completions'\n",
        "      jobs.append(asyncio.ensure_future(get_text(session, url, {'prompt' : 'question', 'temperature' : 0.7, 'max_tokens' : 100, 'top_p' : 1})))\n",
        "\n",
        "    responses = await asyncio.gather(*jobs)\n",
        "\n",
        "  return responses\n",
        "\n",
        "t2 = time.time()\n",
        "answers = asyncio.run(answer_questions())\n",
        "t3 = time.time()\n",
        "\n",
        "print(t1-t0)\n",
        "print(answers)"
      ],
      "metadata": {
        "colab": {
          "base_uri": "https://localhost:8080/"
        },
        "id": "HuNPkKhGkwk6",
        "outputId": "aa569840-5b5d-4f87-ea66-3b1e365d5d42"
      },
      "execution_count": 43,
      "outputs": [
        {
          "output_type": "stream",
          "name": "stdout",
          "text": [
            "13.090801239013672\n",
            "['\\n\\nWhat is the difference between a forward-facing engine and a back-facing engine?\\n\\nA forward-facing engine is a engine that is facing the front of the car, while a back-facing engine is facing the back of the car.', ' I asked\\n\\nWhat are your favorite and least favorite plant types?\\n\\nI love all plant types!', '\\n\\nWhat do you do when you are sick?\\n\\nI go to the hospital.', ')\\n\\nWhat is the name of the protagonist in the novel?\\n\\nThe protagonist in the novel is John.', '\\n\\nWhat is the difference between a plan and a budget?\\n\\nA budget is a plan for how money will be used in the budget, while plan is a plan of how money will be used, usually one prepared with help of a financial advisor.']\n"
          ]
        }
      ]
    },
    {
      "cell_type": "code",
      "source": [
        "print(f'Single Requests (Time to Complete): {t1-t0} seconds')\n",
        "print(f'Concurrent Requests (Time to Complete): {t3-t2} seconds')"
      ],
      "metadata": {
        "colab": {
          "base_uri": "https://localhost:8080/"
        },
        "id": "qmPnms9t037r",
        "outputId": "e232b8ef-157b-4c41-98a8-69a005283a71"
      },
      "execution_count": 44,
      "outputs": [
        {
          "output_type": "stream",
          "name": "stdout",
          "text": [
            "Single Requests (Time to Complete): 13.090801239013672 seconds\n",
            "Concurrent Requests (Time to Complete): 0.5026059150695801 seconds\n"
          ]
        }
      ]
    }
  ]
}